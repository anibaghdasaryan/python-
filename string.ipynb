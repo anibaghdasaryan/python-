{
 "cells": [
  {
   "cell_type": "code",
   "execution_count": 186,
   "id": "6713a299",
   "metadata": {},
   "outputs": [
    {
     "data": {
      "text/plain": [
       "7"
      ]
     },
     "execution_count": 186,
     "metadata": {},
     "output_type": "execute_result"
    }
   ],
   "source": [
    "def find(str_1,value,start,end):\n",
    "    if value in str_1[start:end]:\n",
    "        return str_1.index(value)\n",
    "    else:\n",
    "        return -1\n",
    "find('python notebok','no',0,20)"
   ]
  },
  {
   "cell_type": "code",
   "execution_count": 28,
   "id": "7ae9852e",
   "metadata": {},
   "outputs": [
    {
     "data": {
      "text/plain": [
       "'378'"
      ]
     },
     "execution_count": 28,
     "metadata": {},
     "output_type": "execute_result"
    }
   ],
   "source": [
    "def join(lst,string):\n",
    "    for i in lst:\n",
    "        if type(i)!=str:\n",
    "            return 'TypeError'\n",
    "    else:\n",
    "        s = ''\n",
    "        for i in lst:\n",
    "            s = s+i\n",
    "            if lst.index(i)==len(lst)-1:\n",
    "                return s\n",
    "            else:\n",
    "                s = s+string\n",
    "join(['3','7','8'],'')\n",
    "        \n",
    "    "
   ]
  },
  {
   "cell_type": "code",
   "execution_count": 5,
   "id": "826b48cf",
   "metadata": {},
   "outputs": [
    {
     "data": {
      "text/plain": [
       "'Python'"
      ]
     },
     "execution_count": 5,
     "metadata": {},
     "output_type": "execute_result"
    }
   ],
   "source": [
    "def capitalize(str_1):\n",
    "        return str_1[0].upper()+str_1[1::].lower()\n",
    "capitalize('pytHon')"
   ]
  },
  {
   "cell_type": "code",
   "execution_count": 37,
   "id": "631bd15e",
   "metadata": {},
   "outputs": [
    {
     "data": {
      "text/plain": [
       "'PICSART ACADEMY'"
      ]
     },
     "execution_count": 37,
     "metadata": {},
     "output_type": "execute_result"
    }
   ],
   "source": [
    "def lower(str_1):\n",
    "    str_new=''\n",
    "    for i in str_1:\n",
    "        if ord('a')<=ord(i)<=ord('z'):\n",
    "            i = chr(ord(i)-32)\n",
    "            str_new+=i\n",
    "        else:\n",
    "            str_new+=i\n",
    "    return str_new\n",
    "lower('picsart academy')\n",
    "            "
   ]
  },
  {
   "cell_type": "code",
   "execution_count": null,
   "id": "7e604ab2",
   "metadata": {},
   "outputs": [],
   "source": []
  }
 ],
 "metadata": {
  "kernelspec": {
   "display_name": "Python 3 (ipykernel)",
   "language": "python",
   "name": "python3"
  },
  "language_info": {
   "codemirror_mode": {
    "name": "ipython",
    "version": 3
   },
   "file_extension": ".py",
   "mimetype": "text/x-python",
   "name": "python",
   "nbconvert_exporter": "python",
   "pygments_lexer": "ipython3",
   "version": "3.9.7"
  }
 },
 "nbformat": 4,
 "nbformat_minor": 5
}
